{
 "cells": [
  {
   "cell_type": "markdown",
   "id": "d1f368b2",
   "metadata": {},
   "source": [
    "## Building a simple Linear Regression Model using PyTorch"
   ]
  },
  {
   "cell_type": "code",
   "execution_count": 33,
   "id": "d9b1a931",
   "metadata": {},
   "outputs": [],
   "source": [
    "import numpy as np\n",
    "import matplotlib.pyplot as plt\n",
    "\n",
    "X_train = np.arange(10,dtype='float32').reshape(10,1)\n",
    "y_train = np.array([1.0,1.3,3.1,2.0,5.0,6.3,6.6,7.4,8.0,9.0],dtype='float32')"
   ]
  },
  {
   "cell_type": "code",
   "execution_count": 34,
   "id": "a5f52384",
   "metadata": {},
   "outputs": [
    {
     "data": {
      "image/png": "[encoded data removed]",
      "text/plain": [
       "<Figure size 432x288 with 1 Axes>"
      ]
     },
     "metadata": {
      "needs_background": "light"
     },
     "output_type": "display_data"
    }
   ],
   "source": [
    "plt.plot(X_train,y_train,'o',markersize=10)\n",
    "plt.xlabel('x')\n",
    "plt.ylabel('y')\n",
    "plt.show()"
   ]
  },
  {
   "cell_type": "code",
   "execution_count": 35,
   "id": "eb24aa2d",
   "metadata": {},
   "outputs": [],
   "source": [
    "import torch\n",
    "from torch.utils.data import Dataset,TensorDataset\n",
    "\n",
    "X_train_norm = (X_train - np.mean(X_train))/np.std(X_train)\n",
    "X_train_norm = torch.from_numpy(X_train_norm)\n",
    "y_train = torch.from_numpy(y_train)\n",
    "\n",
    "train_ds = TensorDataset(X_train_norm,y_train)\n"
   ]
  },
  {
   "cell_type": "code",
   "execution_count": 53,
   "id": "4418f18d",
   "metadata": {},
   "outputs": [
    {
     "data": {
      "text/plain": [
       "[tensor([[-1.2185]]), tensor([1.3000])]"
      ]
     },
     "execution_count": 53,
     "metadata": {},
     "output_type": "execute_result"
    }
   ],
   "source": [
    "from torch.utils.data import DataLoader\n",
    "\n",
    "batch_size = 1\n",
    "train_dl = DataLoader(train_ds, batch_size, shuffle=True)\n",
    "\n",
    "next(iter(train_dl))"
   ]
  },
  {
   "cell_type": "code",
   "execution_count": 72,
   "id": "49836bfd",
   "metadata": {},
   "outputs": [],
   "source": [
    "torch.manual_seed(1)\n",
    "\n",
    "# Intialize params\n",
    "\n",
    "weight = torch.randn(1)\n",
    "weight.requires_grad_()\n",
    "\n",
    "bias = torch.zeros(1,requires_grad = True)\n",
    "\n",
    "learning_rate = 0.001\n",
    "\n",
    "num_epochs = 100\n",
    "\n",
    "log_epochs = 10"
   ]
  },
  {
   "cell_type": "code",
   "execution_count": 74,
   "id": "3edabf19",
   "metadata": {},
   "outputs": [
    {
     "name": "stdout",
     "output_type": "stream",
     "text": [
      "Epoch 0 Loss 0.7625\n",
      "Epoch 10 Loss 1.0024\n",
      "Epoch 20 Loss 0.0232\n",
      "Epoch 30 Loss 0.5138\n",
      "Epoch 40 Loss 0.0741\n",
      "Epoch 50 Loss 1.8712\n",
      "Epoch 60 Loss 0.0007\n",
      "Epoch 70 Loss 0.0850\n",
      "Epoch 80 Loss 0.0634\n",
      "Epoch 90 Loss 0.0012\n"
     ]
    }
   ],
   "source": [
    "# Define our model as y = mx+b\n",
    "\n",
    "def model(x):\n",
    "    return (weight*x) + bias\n",
    "\n",
    "def loss_fn(input,target):\n",
    "    return (input-target).pow(2).mean()\n",
    "\n",
    "for epoch in range(num_epochs):\n",
    "    for x_batch,y_batch in train_dl:\n",
    "        pred = model(x_batch)\n",
    "        loss = loss_fn(pred, y_batch)\n",
    "        loss.backward()\n",
    "#     print(f'before1 : {weight}')\n",
    "    with torch.no_grad():\n",
    "        weight -= weight.grad*learning_rate\n",
    "        bias -= bias.grad*learning_rate\n",
    "        weight.grad.zero_()\n",
    "        bias.grad.zero_()\n",
    "#     print(f'after : {weight}')\n",
    "#     print(f'Epoch {epoch} Loss {loss.item():.4f}')\n",
    "    if epoch % log_epochs==0:\n",
    "        print(f'Epoch {epoch} Loss {loss.item():.4f}')\n"
   ]
  },
  {
   "cell_type": "code",
   "execution_count": 75,
   "id": "1bb1a2a7",
   "metadata": {},
   "outputs": [
    {
     "name": "stdout",
     "output_type": "stream",
     "text": [
      "Final parameters:  2.670930862426758 4.88258695602417\n"
     ]
    }
   ],
   "source": [
    "print('Final parameters: ', weight.item(),bias.item())"
   ]
  },
  {
   "cell_type": "code",
   "execution_count": 78,
   "id": "f40cac66",
   "metadata": {},
   "outputs": [],
   "source": [
    "X_test = np.linspace(0,9,num=100,dtype='float32').reshape(-1,1)\n",
    "\n",
    "X_test_norm = (X_test - np.mean(X_test))/np.std(X_test)\n",
    "X_test_norm = torch.from_numpy(X_test_norm)"
   ]
  },
  {
   "cell_type": "code",
   "execution_count": 79,
   "id": "ed444c9d",
   "metadata": {},
   "outputs": [],
   "source": [
    "y_pred = model(X_test_norm).detach().numpy()"
   ]
  },
  {
   "cell_type": "code",
   "execution_count": 80,
   "id": "3d479557",
   "metadata": {},
   "outputs": [
    {
     "data": {
      "image/png": "[encoded data removed]",
      "text/plain": [
       "<Figure size 936x360 with 1 Axes>"
      ]
     },
     "metadata": {
      "needs_background": "light"
     },
     "output_type": "display_data"
    }
   ],
   "source": [
    "fig = plt.figure(figsize=(13,5))\n",
    "ax = fig.add_subplot(1,2,1)\n",
    "\n",
    "plt.plot(X_train_norm,y_train,'o',markersize=10)\n",
    "plt.plot(X_test_norm,y_pred,'--', lw=3)\n",
    "\n",
    "plt.legend(['Training examples', 'Linear Reg.'], fontsize=15)\n",
    "ax.set_xlabel('x')\n",
    "ax.set_ylabel('y')\n",
    "ax.tick_params(axis='both',which='major',labelsize=15)\n",
    "plt.show()"
   ]
  },
  {
   "cell_type": "markdown",
   "id": "6b88248b",
   "metadata": {},
   "source": [
    "## Using torch.nn and torch.optim modules "
   ]
  },
  {
   "cell_type": "code",
   "execution_count": 84,
   "id": "d6a095c6",
   "metadata": {},
   "outputs": [
    {
     "name": "stdout",
     "output_type": "stream",
     "text": [
      "Epoch 0 Loss 40.1854\n",
      "Epoch 10 Loss 49.0121\n",
      "Epoch 20 Loss 32.2643\n",
      "Epoch 30 Loss 8.3398\n",
      "Epoch 40 Loss 0.0416\n",
      "Epoch 50 Loss 8.9466\n",
      "Epoch 60 Loss 0.0064\n",
      "Epoch 70 Loss 5.0806\n",
      "Epoch 80 Loss 1.8993\n",
      "Epoch 90 Loss 1.8198\n"
     ]
    }
   ],
   "source": [
    "import torch.nn as nn\n",
    "\n",
    "loss_fn = nn.MSELoss(reduction = 'mean')\n",
    "\n",
    "input_size=1\n",
    "output_size=1\n",
    "\n",
    "model = nn.Linear(input_size, output_size)\n",
    "optimizer = torch.optim.SGD(model.parameters(), lr = learning_rate)\n",
    "\n",
    "for epoch in range(num_epochs):\n",
    "    for x_batch,y_batch in train_dl:\n",
    "        \n",
    "        # Generate predictions\n",
    "        pred = model(x_batch)\n",
    "        \n",
    "        # Calculate Loss\n",
    "        loss = loss_fn(pred, y_batch)\n",
    "        \n",
    "        # compute gradeints\n",
    "        loss.backward()\n",
    "        \n",
    "        # update weights & gradients\n",
    "        optimizer.step()\n",
    "        \n",
    "        # Reset gradients to zero for next epoch\n",
    "        optimizer.zero_grad()\n",
    "\n",
    "    if epoch % log_epochs==0:\n",
    "        print(f'Epoch {epoch} Loss {loss.item():.4f}')"
   ]
  },
  {
   "cell_type": "code",
   "execution_count": 85,
   "id": "719c8eb0",
   "metadata": {},
   "outputs": [
    {
     "name": "stdout",
     "output_type": "stream",
     "text": [
      "Final parameters:  2.670930862426758 4.88258695602417\n"
     ]
    }
   ],
   "source": [
    "print('Final parameters: ', weight.item(),bias.item())"
   ]
  },
  {
   "cell_type": "code",
   "execution_count": null,
   "id": "a56832e5",
   "metadata": {},
   "outputs": [],
   "source": []
  }
 ],
 "metadata": {
  "kernelspec": {
   "display_name": "Python 3 (ipykernel)",
   "language": "python",
   "name": "python3"
  },
  "language_info": {
   "codemirror_mode": {
    "name": "ipython",
    "version": 3
   },
   "file_extension": ".py",
   "mimetype": "text/x-python",
   "name": "python",
   "nbconvert_exporter": "python",
   "pygments_lexer": "ipython3",
   "version": "3.9.12"
  }
 },
 "nbformat": 4,
 "nbformat_minor": 5
}
