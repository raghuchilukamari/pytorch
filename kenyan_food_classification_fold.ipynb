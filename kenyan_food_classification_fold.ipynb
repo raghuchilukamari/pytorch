{
 "cells": [
  {
   "cell_type": "markdown",
   "metadata": {},
   "source": [
    "# <font style=\"color:blue\">Project 2: Kaggle Competition - Classification</font>\n",
    "\n",
    "#### Maximum Points: 100\n",
    "\n",
    "<div>\n",
    "    <table>\n",
    "        <tr><td><h3>Sr. no.</h3></td> <td><h3>Section</h3></td> <td><h3>Points</h3></td> </tr>\n",
    "        <tr><td><h3>1</h3></td> <td><h3>Data Loader</h3></td> <td><h3>10</h3></td> </tr>\n",
    "        <tr><td><h3>2</h3></td> <td><h3>Configuration</h3></td> <td><h3>5</h3></td> </tr>\n",
    "        <tr><td><h3>3</h3></td> <td><h3>Evaluation Metric</h3></td> <td><h3>10</h3></td> </tr>\n",
    "        <tr><td><h3>4</h3></td> <td><h3>Train and Validation</h3></td> <td><h3>5</h3></td> </tr>\n",
    "        <tr><td><h3>5</h3></td> <td><h3>Model</h3></td> <td><h3>5</h3></td> </tr>\n",
    "        <tr><td><h3>6</h3></td> <td><h3>Utils</h3></td> <td><h3>5</h3></td> </tr>\n",
    "        <tr><td><h3>7</h3></td> <td><h3>Experiment</h3></td><td><h3>5</h3></td> </tr>\n",
    "        <tr><td><h3>8</h3></td> <td><h3>TensorBoard Dev Scalars Log Link</h3></td> <td><h3>5</h3></td> </tr>\n",
    "        <tr><td><h3>9</h3></td> <td><h3>Kaggle Profile Link</h3></td> <td><h3>50</h3></td> </tr>\n",
    "    </table>\n",
    "</div>\n"
   ]
  },
  {
   "cell_type": "markdown",
   "metadata": {},
   "source": [
    "## <font style=\"color:green\"> 0. General Imports"
   ]
  },
  {
   "cell_type": "code",
   "execution_count": 1,
   "metadata": {},
   "outputs": [
    {
     "name": "stdout",
     "output_type": "stream",
     "text": [
      "INFO: System executable path =  /home/prem/projects/dl_ml_ai/keynan_food_classifier/env/bin/python3.7\n"
     ]
    }
   ],
   "source": [
    "''' \n",
    "    Check which Python environemnt is running, by default in the CONDA base \n",
    "    To change to correct path, install the jupyterlab in the current CONDA\n",
    "    environment.\n",
    "    \n",
    "'''\n",
    "import sys\n",
    "print('INFO: System executable path = ', sys.executable)"
   ]
  },
  {
   "cell_type": "code",
   "execution_count": 2,
   "metadata": {},
   "outputs": [],
   "source": [
    "# Import Matplotlib and the plots in the notebook\n",
    "import matplotlib.pyplot as plt\n",
    "%matplotlib inline"
   ]
  },
  {
   "cell_type": "code",
   "execution_count": 3,
   "metadata": {},
   "outputs": [],
   "source": [
    "# Import os for paths joining and other purposes\n",
    "# Import time for displaying the time for each epoch \n",
    "import os\n",
    "import time"
   ]
  },
  {
   "cell_type": "code",
   "execution_count": 4,
   "metadata": {},
   "outputs": [],
   "source": [
    "# Import number python for libear algebra and quick processing \n",
    "import numpy as np \n",
    "# Import Data Processing, CSV file I/O \n",
    "import pandas as pd \n",
    "# Import collections\n",
    "import collections"
   ]
  },
  {
   "cell_type": "code",
   "execution_count": 5,
   "metadata": {},
   "outputs": [],
   "source": [
    "from PIL import Image"
   ]
  },
  {
   "cell_type": "code",
   "execution_count": 6,
   "metadata": {},
   "outputs": [],
   "source": [
    "# Import Python torch\n",
    "import torch\n",
    "import torch.nn as nn\n",
    "import torch.optim as optim\n",
    "import torch.nn.functional as F\n",
    "\n",
    "from torch.optim import lr_scheduler\n",
    "from torch.utils.data import Dataset, DataLoader, random_split\n",
    "from torch.utils.data.sampler import WeightedRandomSampler\n",
    "from torch.utils.tensorboard import SummaryWriter\n",
    "from torch.optim.lr_scheduler import CyclicLR"
   ]
  },
  {
   "cell_type": "code",
   "execution_count": 7,
   "metadata": {},
   "outputs": [],
   "source": [
    "# Import torchvision\n",
    "from torchvision import transforms\n",
    "from torchvision.transforms import functional as TF\n",
    "from torchvision import models"
   ]
  },
  {
   "cell_type": "code",
   "execution_count": 8,
   "metadata": {},
   "outputs": [],
   "source": [
    "# Import Dataclass\n",
    "from dataclasses import dataclass"
   ]
  },
  {
   "cell_type": "code",
   "execution_count": 9,
   "metadata": {},
   "outputs": [],
   "source": [
    "# Import scikit learn (science kit learn)\n",
    "from sklearn.model_selection import train_test_split\n",
    "from sklearn.model_selection import StratifiedKFold"
   ]
  },
  {
   "cell_type": "code",
   "execution_count": 10,
   "metadata": {},
   "outputs": [],
   "source": [
    "# Some of the control constants to execute or not to.\n",
    "is_resnext50_32x4d = False\n",
    "is_resnext101_32x8d = True\n",
    "is_resnet101 = False\n",
    "is_weighted_entropy_loss = True\n",
    "is_fc_dropout = True\n",
    "is_fold = True"
   ]
  },
  {
   "cell_type": "code",
   "execution_count": 11,
   "metadata": {},
   "outputs": [
    {
     "name": "stdout",
     "output_type": "stream",
     "text": [
      "INFO: Torch Version is  1.5.0\n",
      "INFO: Torch CUDA Version is  10.2\n"
     ]
    }
   ],
   "source": [
    "print(\"INFO: Torch Version is \", torch.__version__)\n",
    "print(\"INFO: Torch CUDA Version is \", torch.version.cuda)\n"
   ]
  },
  {
   "cell_type": "code",
   "execution_count": 12,
   "metadata": {},
   "outputs": [],
   "source": [
    "def is_cuda_device():\n",
    "    if (torch.cuda.is_available()):\n",
    "        return True\n",
    "    else:\n",
    "        return False"
   ]
  },
  {
   "cell_type": "code",
   "execution_count": 13,
   "metadata": {},
   "outputs": [
    {
     "name": "stdout",
     "output_type": "stream",
     "text": [
      "INFO: GPU avaible\n"
     ]
    }
   ],
   "source": [
    "if (is_cuda_device):\n",
    "    print(\"INFO: GPU avaible\")\n",
    "else:\n",
    "    print(\"INFO: GPU is not available\") "
   ]
  },
  {
   "cell_type": "code",
   "execution_count": 14,
   "metadata": {},
   "outputs": [],
   "source": [
    "# Define data contants as a class, DataConfiguration\n",
    "@dataclass\n",
    "class DataConfiguration:\n",
    "    input_data: str = 'data/input'\n",
    "    images_data: str = 'images'\n",
    "    output_data: str = 'data/output'\n",
    "    train_file_name: str = 'train.csv'\n",
    "    test_file_name: str = 'test.csv'    \n",
    "    submission_file_name: str = 'submission.csv'\n",
    "    split_ratio:int = 0.8\n",
    "    model_dir:str = 'models'\n",
    "    model_file_name:str = 'kenya_food_classifier.pt'\n",
    "    image_re_size:int = 512\n",
    "    image_crop_size:int = 512\n",
    "    no_folds:int = 1"
   ]
  },
  {
   "cell_type": "code",
   "execution_count": 15,
   "metadata": {},
   "outputs": [],
   "source": [
    "# Instance of the DataConfiguration        \n",
    "data_config = DataConfiguration()"
   ]
  },
  {
   "cell_type": "code",
   "execution_count": 16,
   "metadata": {},
   "outputs": [],
   "source": [
    "def create_models_dir():\n",
    "    model_dir = data_config.model_dir\n",
    "    if not os.path.exists(model_dir):\n",
    "        os.makedirs(model_dir)"
   ]
  },
  {
   "cell_type": "code",
   "execution_count": 17,
   "metadata": {},
   "outputs": [],
   "source": [
    "model_path = data_config.model_dir\n",
    "create_models_dir()"
   ]
  },
  {
   "cell_type": "code",
   "execution_count": 18,
   "metadata": {},
   "outputs": [],
   "source": [
    "# Get the train file name\n",
    "def get_train_file_name():\n",
    "    file_name = os.path.join(data_config.input_data,\n",
    "                             data_config.train_file_name) \n",
    "    return file_name"
   ]
  },
  {
   "cell_type": "code",
   "execution_count": 19,
   "metadata": {},
   "outputs": [],
   "source": [
    "# Get the test file name\n",
    "def get_test_file_name():\n",
    "    file_name = os.path.join(data_config.input_data,\n",
    "                             data_config.test_file_name)\n",
    "    return file_name"
   ]
  },
  {
   "cell_type": "code",
   "execution_count": 20,
   "metadata": {},
   "outputs": [
    {
     "name": "stdout",
     "output_type": "stream",
     "text": [
      "INFO: Train and Validation File Name:  data/input/train.csv\n",
      "INFO: Test File Name:  data/input/test.csv\n"
     ]
    }
   ],
   "source": [
    "train_file_name = get_train_file_name()\n",
    "print(\"INFO: Train and Validation File Name: \", train_file_name)\n",
    "\n",
    "test_file_name = get_test_file_name()\n",
    "print(\"INFO: Test File Name: \", test_file_name)"
   ]
  },
  {
   "cell_type": "markdown",
   "metadata": {},
   "source": [
    "## <font style=\"color:green\">1. Data Loader [10 Points]</font>\n",
    "\n",
    "In this section, you have to write a class or methods that will be used to get training and validation data\n",
    "loader.\n",
    "\n",
    "You will have to write a custom dataset class to load data.\n",
    "\n",
    "**Note that there are not separate validation data, so you will have to create your validation set by dividing train data into train and validation data. Usually, in practice, we do `80:20` ratio for train and validation, respectively.** \n",
    "\n",
    "For example,\n",
    "\n",
    "```\n",
    "class KenyanFood13Dataset(Dataset):\n",
    "    \"\"\"\n",
    "    \n",
    "    \"\"\"\n",
    "    \n",
    "    def __init__(self, *args):\n",
    "    ....\n",
    "    ...\n",
    "    \n",
    "    def __getitem__(self, idx):\n",
    "    ...\n",
    "    ...\n",
    "    \n",
    "    \n",
    "```\n",
    "\n",
    "```\n",
    "def get_data(args1, *agrs):\n",
    "    ....\n",
    "    ....\n",
    "    return train_loader, test_loader\n",
    "```"
   ]
  },
  {
   "cell_type": "markdown",
   "metadata": {},
   "source": [
    "### <font style=\"color:green\">1.1 Split the Training and Validation Data    "
   ]
  },
  {
   "cell_type": "code",
   "execution_count": 21,
   "metadata": {},
   "outputs": [],
   "source": [
    "# Get the data frame\n",
    "def get_df(file_name):\n",
    "    df = pd.read_csv(file_name)\n",
    "    return df"
   ]
  },
  {
   "cell_type": "code",
   "execution_count": 22,
   "metadata": {},
   "outputs": [],
   "source": [
    "# Get Label classes\n",
    "def get_labels(file_name):\n",
    "    df = pd.read_csv(file_name)\n",
    "    classes = train_valid_df['class'].unique().tolist()\n",
    "    return classes"
   ]
  },
  {
   "cell_type": "code",
   "execution_count": 23,
   "metadata": {},
   "outputs": [
    {
     "name": "stdout",
     "output_type": "stream",
     "text": [
      "INFO: Number of Training and Validation Samples =  6536\n"
     ]
    }
   ],
   "source": [
    "# Get the training data frmae\n",
    "train_valid_df = get_df(train_file_name)\n",
    "\n",
    "print(\"INFO: Number of Training and Validation Samples = \",\n",
    "         len(train_valid_df))\n",
    "#print(train_valid_df)"
   ]
  },
  {
   "cell_type": "code",
   "execution_count": 24,
   "metadata": {},
   "outputs": [
    {
     "name": "stdout",
     "output_type": "stream",
     "text": [
      "INFO: Classes are \n",
      "['githeri', 'ugali', 'kachumbari', 'matoke', 'sukumawiki', 'bhaji', 'mandazi', 'kukuchoma', 'nyamachoma', 'pilau', 'chapati', 'masalachips', 'mukimo']\n",
      "INFO: Number of class Lables =  13\n"
     ]
    }
   ],
   "source": [
    "labels = get_labels(train_file_name)\n",
    "print(\"INFO: Classes are \")\n",
    "print(labels)\n",
    "no_classes = len(labels)\n",
    "print(\"INFO: Number of class Lables = \", no_classes)"
   ]
  },
  {
   "cell_type": "code",
   "execution_count": 64,
   "metadata": {},
   "outputs": [
    {
     "name": "stdout",
     "output_type": "stream",
     "text": [
      "INFO: Training Size = 5228, Validation Size = 1308\n"
     ]
    }
   ],
   "source": [
    "train_df, valid_df = train_test_split(train_valid_df, \n",
    "                                      train_size = data_config.split_ratio,\n",
    "                                      random_state = 42)\n",
    "                                           \n",
    "print('INFO: Training Size = {}, Validation Size = {}'\n",
    "      .format(len(train_df), len(valid_df)))"
   ]
  },
  {
   "cell_type": "code",
   "execution_count": 26,
   "metadata": {},
   "outputs": [
    {
     "name": "stdout",
     "output_type": "stream",
     "text": [
      "INFO: The Number of test samples =  1638\n"
     ]
    }
   ],
   "source": [
    "# Get the Test data\n",
    "test_df = get_df(test_file_name)\n",
    "print(\"INFO: The Number of test samples = \", len(test_df))"
   ]
  },
  {
   "cell_type": "code",
   "execution_count": 27,
   "metadata": {},
   "outputs": [
    {
     "name": "stdout",
     "output_type": "stream",
     "text": [
      "INFO: Images data path =  data/input/images/\n"
     ]
    }
   ],
   "source": [
    "# Image data path\n",
    "images_data = os.path.join(data_config.input_data,\n",
    "                           data_config.images_data, '')\n",
    "print(\"INFO: Images data path = \", images_data)"
   ]
  },
  {
   "cell_type": "code",
   "execution_count": 28,
   "metadata": {},
   "outputs": [],
   "source": [
    "def get_df_data(indices):\n",
    "    start = indices[0]\n",
    "    end = indices[len(indices) - 1]\n",
    "    data_df = train_valid_df[start:end+1]\n",
    "    return data_df"
   ]
  },
  {
   "cell_type": "markdown",
   "metadata": {},
   "source": [
    "### <font style=\"color:green\">1.2 Folds    "
   ]
  },
  {
   "cell_type": "code",
   "execution_count": 29,
   "metadata": {},
   "outputs": [],
   "source": [
    "if (is_fold):\n",
    "    setattr(data_config, 'no_folds', 5)"
   ]
  },
  {
   "cell_type": "code",
   "execution_count": null,
   "metadata": {},
   "outputs": [],
   "source": []
  },
  {
   "cell_type": "code",
   "execution_count": null,
   "metadata": {},
   "outputs": [],
   "source": []
  },
  {
   "cell_type": "code",
   "execution_count": 30,
   "metadata": {},
   "outputs": [],
   "source": [
    "def get_data_df(indices):        \n",
    "    ids = []\n",
    "    target_classes = []\n",
    "    \n",
    "    for index in range (len(indices)):\n",
    "        indices_index = indices[index]\n",
    "        image_id = train_valid_df['id'][indices_index]\n",
    "        ids.append(image_id) \n",
    "        target = train_valid_df['class'][indices_index]\n",
    "        target_classes.append(target)\n",
    "    \n",
    "        \n",
    "    # dictionary of lists  \n",
    "    dict = {'id': ids, 'class': target_classes}\n",
    "    \n",
    "    data_df = pd.DataFrame(dict)    \n",
    "    \n",
    "    return data_df"
   ]
  },
  {
   "cell_type": "code",
   "execution_count": 31,
   "metadata": {},
   "outputs": [],
   "source": [
    "def get_fold_dfs():\n",
    "    skf = StratifiedKFold(n_splits = data_config.no_folds, shuffle = True, random_state = 1)\n",
    "    images = train_valid_df.id    \n",
    "    targets = train_valid_df.loc[:, 'class']\n",
    "    train_dfs = []\n",
    "    train_dfs = []\n",
    "    for train_index, valid_index in skf.split(images, targets):\n",
    "        #print(\" INFO: Fold Train: {}, length = {}\".\n",
    "        #          format(train_index, len(train_index)))\n",
    "        #print(\" INFO: Fold Validation: {}, length = {}\".\n",
    "        #          format(valid_index, len(valid_index)))\n",
    "        fold_df = get_data_df(train_index)\n",
    "        train_dfs.append(fold_df)\n",
    "        fold_df = get_data_df(valid_index)\n",
    "        valid_dfs.append(fold_df)\n",
    "        \n",
    "    return train_dfs, valid_dfs    "
   ]
  },
  {
   "cell_type": "code",
   "execution_count": 32,
   "metadata": {},
   "outputs": [],
   "source": [
    "train_dfs = []\n",
    "valid_dfs = []\n",
    "if (is_fold):\n",
    "    train_dfs, valid_dfs = get_fold_dfs()\n",
    "else:\n",
    "    train_dfs.append(train_df)\n",
    "    valid_dfs.append(valid_df)"
   ]
  },
  {
   "cell_type": "markdown",
   "metadata": {},
   "source": [
    "### <font style=\"color:green\">1. Data Set Creation"
   ]
  },
  {
   "cell_type": "code",
   "execution_count": 33,
   "metadata": {},
   "outputs": [],
   "source": [
    "class KenyaFoodDataset(Dataset):\n",
    "    def __init__(self, df, images_path, transform, test = False):\n",
    "        self.images_path = images_path\n",
    "        self.df = df\n",
    "        self.transform = transform\n",
    "        self.test = test\n",
    "            \n",
    "    def __len__(self):\n",
    "        return len(self.df)\n",
    "\n",
    "    def __getitem__(self, idx):\n",
    "        img_path = self.images_path + str(self.df.iloc[idx, 0]) + '.jpg'\n",
    "        image = Image.open(img_path)\n",
    "        \n",
    "        if self.transform is not None:\n",
    "            img = self.transform(image)\n",
    "            \n",
    "        if self.test:\n",
    "            sample = img            \n",
    "        else:\n",
    "            label_name = self.df.iloc[idx, 1]\n",
    "            label = labels.index(label_name)\n",
    "            sample = img, label\n",
    "                \n",
    "        return sample\n",
    "        \n",
    "    def __id__(self,idx):\n",
    "        return self.df.iloc[idx, 0]\n",
    "    \n",
    "    def get_label(self, idx):\n",
    "        label_name = self.df.iloc[idx, 1]\n",
    "        label = labels.index(label_name)\n",
    "        \n",
    "        return label        "
   ]
  },
  {
   "cell_type": "markdown",
   "metadata": {},
   "source": [
    "### <font style=\"color:green\">1.3 Transformations\n",
    "\n",
    "https://pytorch.org/hub/pytorch_vision_resnext/ for mean and std"
   ]
  },
  {
   "cell_type": "code",
   "execution_count": 34,
   "metadata": {},
   "outputs": [],
   "source": [
    "# Mean and standard deviation for resnext\n",
    "mean = [0.485, 0.456, 0.406] \n",
    "std = [0.229, 0.224, 0.225]"
   ]
  },
  {
   "cell_type": "code",
   "execution_count": 35,
   "metadata": {},
   "outputs": [],
   "source": [
    "#define Transformations for training, validation, testing and display\n",
    "\n",
    "train_tranform = transforms.Compose([\n",
    "        transforms.Resize(data_config.image_re_size),\n",
    "        transforms.CenterCrop(data_config.image_crop_size),\n",
    "        transforms.RandomHorizontalFlip(p = 0.5),\n",
    "        transforms.RandomRotation(degrees = (-90, 90)),\n",
    "        transforms.ColorJitter(hue = .05, saturation = .05),\n",
    "        transforms.RandomVerticalFlip(p = 0.5),\n",
    "        transforms.RandomAffine(30, \n",
    "                                translate = None,\n",
    "                                scale = None,\n",
    "                                shear = None,\n",
    "                                resample = False,\n",
    "                                fillcolor = 0),\n",
    "        transforms.ToTensor(),        \n",
    "        transforms.Normalize(mean, std)\n",
    "    ])\n",
    "\n",
    "val_tranform = transforms.Compose([\n",
    "        transforms.Resize(data_config.image_re_size),\n",
    "        transforms.CenterCrop(data_config.image_crop_size),\n",
    "        transforms.ToTensor(),        \n",
    "        transforms.Normalize(mean, std)\n",
    "    ])\n",
    "\n",
    "test_tranform = transforms.Compose([\n",
    "        transforms.Resize(data_config.image_re_size),\n",
    "        transforms.CenterCrop(data_config.image_crop_size),\n",
    "        transforms.ToTensor(),        \n",
    "        transforms.Normalize(mean, std)\n",
    "    ])\n",
    "\n",
    "display_transform = transforms.Compose([\n",
    "        transforms.Resize(data_config.image_re_size),\n",
    "        transforms.CenterCrop(data_config.image_crop_size),\n",
    "        transforms.ToTensor()\n",
    "    ])    "
   ]
  },
  {
   "cell_type": "code",
   "execution_count": 36,
   "metadata": {},
   "outputs": [],
   "source": [
    "# Prepare the data set for training, validation, and test\n",
    "train_dataset = KenyaFoodDataset(train_df, images_data, train_tranform)\n",
    "valid_dataset = KenyaFoodDataset(valid_df, images_data, val_tranform)\n",
    "test_dataset =  KenyaFoodDataset(test_df, images_data, test_tranform, test = True)"
   ]
  },
  {
   "cell_type": "code",
   "execution_count": 37,
   "metadata": {},
   "outputs": [],
   "source": [
    "# Check the correctness of the data set\n",
    "def display_data_set():            \n",
    "    idx = 500\n",
    "    data_set = KenyaFoodDataset(valid_df, images_data, display_transform)\n",
    "    img, target = data_set.__getitem__(idx)\n",
    "    \n",
    "    class_name = labels[target]    \n",
    "    img = TF.to_pil_image(img)\n",
    "    print('image size: {}, target Id: {}, target Class: {}'\n",
    "          .format(img.size, target, class_name))\n",
    "\n",
    "    plt.imshow(img)\n",
    "    plt.show()            \n",
    "    \n",
    "#display_data_set()"
   ]
  },
  {
   "cell_type": "code",
   "execution_count": 38,
   "metadata": {},
   "outputs": [],
   "source": [
    "def get_lables(data_set):\n",
    "    labels = []\n",
    "    data_set_length = len(data_set)\n",
    "    \n",
    "    for index in range (data_set_length):\n",
    "        label = data_set.get_label(index)\n",
    "        labels.append(label)\n",
    "        \n",
    "    labels = collections.Counter(labels)\n",
    "    \n",
    "    return labels\n",
    "\n",
    "def display_labels_bar():\n",
    "    train_labels = get_lables(train_dataset) \n",
    "    plt.bar(train_labels.keys(), train_labels.values())\n",
    "    valid_labels = get_lables(val_dataset) \n",
    "    plt.bar(valid_labels.keys(), valid_labels.values())\n",
    "    plt.show()\n",
    "    \n",
    "#display_labels_bar()"
   ]
  },
  {
   "cell_type": "code",
   "execution_count": 39,
   "metadata": {},
   "outputs": [],
   "source": [
    "def get_dataset_weights(data_set):\n",
    "    labels = []\n",
    "    data_set_length = len(data_set)\n",
    "    \n",
    "    for index in range (data_set_length):\n",
    "        label = data_set.get_label(index)\n",
    "        labels.append(label)\n",
    "        \n",
    "    labels = collections.Counter(labels)\n",
    "    #print(labels)\n",
    "    \n",
    "    target_weights = []\n",
    "    \n",
    "    for index in range(len(labels)):\n",
    "        target_weights.append(labels[index])    \n",
    "    \n",
    "    #print(target_weights)\n",
    "    #target_weights = [index / max(target_weights) for index in target_weights]\n",
    "    target_weights = [1 - index / sum(target_weights) for index in target_weights]\n",
    "    torch_target_weights = torch.FloatTensor(target_weights)      \n",
    "        \n",
    "    #print(target_weights)\n",
    "    #print('Maximum value = ', max(target_weights))\n",
    "    #print('Normalized Weights',torch_target_weights)\n",
    "    \n",
    "    return torch_target_weights   \n"
   ]
  },
  {
   "cell_type": "code",
   "execution_count": null,
   "metadata": {},
   "outputs": [],
   "source": []
  },
  {
   "cell_type": "code",
   "execution_count": 40,
   "metadata": {},
   "outputs": [],
   "source": [
    "def get_data(train_dataset, valid_dataset, batch_size, num_workers = 4):      \n",
    "    train_loader = torch.utils.data.DataLoader(train_dataset, \n",
    "                                         batch_size = batch_size,\n",
    "                                         num_workers = num_workers,\n",
    "                                         shuffle = True)\n",
    "    test_loader = torch.utils.data.DataLoader(valid_dataset, \n",
    "                                         batch_size = batch_size,\n",
    "                                         num_workers = num_workers,\n",
    "                                         shuffle = False)    \n",
    "    return train_loader, test_loader"
   ]
  },
  {
   "cell_type": "markdown",
   "metadata": {},
   "source": [
    "## <font style=\"color:green\">2. Configuration [5 Points]</font>\n",
    "\n",
    "Define your configuration in this section.\n",
    "\n",
    "For example,\n",
    "\n",
    "```\n",
    "@dataclass\n",
    "class TrainingConfiguration:\n",
    "    '''\n",
    "    Describes configuration of the training process\n",
    "    '''\n",
    "    batch_size: int = 10 \n",
    "    epochs_count: int = 20  \n",
    "    init_learning_rate: float = 0.1  # initial learning rate for lr scheduler\n",
    "    log_interval: int = 5  \n",
    "    test_interval: int = 1  \n",
    "    data_root: str = \"/kaggle/input/pytorch-opencv-course-classification/\" \n",
    "    num_workers: int = 2  \n",
    "    device: str = 'cuda'  \n",
    "    \n",
    "```"
   ]
  },
  {
   "cell_type": "code",
   "execution_count": 41,
   "metadata": {},
   "outputs": [],
   "source": [
    "@dataclass\n",
    "class SystemConfiguration:\n",
    "    '''\n",
    "    Describes the common system setting needed for reproducible training\n",
    "    '''\n",
    "    seed: int = 21  # seed number to set the state of all random number generators\n",
    "    cudnn_benchmark_enabled: bool = True  # enable CuDNN benchmark for the sake of performance\n",
    "    cudnn_deterministic: bool = True  # make cudnn deterministic (reproducible training)"
   ]
  },
  {
   "cell_type": "code",
   "execution_count": 42,
   "metadata": {},
   "outputs": [],
   "source": [
    "@dataclass\n",
    "class TrainingConfiguration:\n",
    "    '''\n",
    "    Describes configuration of the training process\n",
    "    '''\n",
    "    learning_rate: float = 0.001  \n",
    "    batch_size: int = 16\n",
    "    num_workers: int = 4  \n",
    "    epochs_count: int = 20  \n",
    "    decay_rate: float = 0.1\n",
    "    log_interval: int = 500  \n",
    "    test_interval: int = 1     \n",
    "    device: str = 'cpu'"
   ]
  },
  {
   "cell_type": "code",
   "execution_count": 43,
   "metadata": {},
   "outputs": [],
   "source": [
    "train_config =  TrainingConfiguration()\n",
    "system_config =  SystemConfiguration()\n",
    "\n",
    "if (is_cuda_device):\n",
    "    setattr(train_config, 'device', 'cuda')\n",
    "    setattr(train_config, 'batch_size', 4)\n",
    "    setattr(train_config, 'num_workers', 2) "
   ]
  },
  {
   "cell_type": "code",
   "execution_count": 44,
   "metadata": {},
   "outputs": [],
   "source": [
    "def setup_system() -> None:\n",
    "    torch.manual_seed(system_config.seed)\n",
    "    if torch.cuda.is_available():\n",
    "        torch.backends.cudnn_benchmark_enabled = system_config.cudnn_benchmark_enabled\n",
    "        torch.backends.cudnn.deterministic = system_config.cudnn_deterministic"
   ]
  },
  {
   "cell_type": "markdown",
   "metadata": {},
   "source": [
    "## <font style=\"color:green\">3. Evaluation Metric [10 Points]</font>\n",
    "\n",
    "Define methods or classes that will be used in model evaluation, for example, accuracy, f1-score, etc."
   ]
  },
  {
   "cell_type": "code",
   "execution_count": null,
   "metadata": {},
   "outputs": [],
   "source": []
  },
  {
   "cell_type": "code",
   "execution_count": null,
   "metadata": {},
   "outputs": [],
   "source": []
  },
  {
   "cell_type": "code",
   "execution_count": null,
   "metadata": {},
   "outputs": [],
   "source": []
  },
  {
   "cell_type": "markdown",
   "metadata": {},
   "source": [
    "## <font style=\"color:green\">4. Train and Validation [5 Points]</font>\n",
    "\n",
    "Write the methods or classes that will be used for training and validation."
   ]
  },
  {
   "cell_type": "code",
   "execution_count": 45,
   "metadata": {},
   "outputs": [],
   "source": [
    "def train(\n",
    "    model: nn.Module, \n",
    "    optimizer: torch.optim.Optimizer,\n",
    "    train_loader: torch.utils.data.DataLoader,\n",
    "    train_dataset: torch.utils.data.Dataset,\n",
    "    epoch_idx: int\n",
    ") -> None:\n",
    "    \n",
    "    # change model in training mood\n",
    "    model.train()\n",
    "    \n",
    "    # to get batch loss\n",
    "    batch_loss = np.array([])\n",
    "    \n",
    "    # to get batch accuracy\n",
    "    batch_acc = np.array([])\n",
    "    \n",
    "    if (is_weighted_entropy_loss):\n",
    "        train_weights = get_dataset_weights(train_dataset)\n",
    "        train_weights = train_weights.to(train_config.device)\n",
    "    \n",
    "    for batch_idx, (data, target) in enumerate(train_loader):        \n",
    "        # clone target\n",
    "        indx_target = target.clone()\n",
    "        # send data to device (its is medatory if GPU has to be used)\n",
    "        data = data.to(train_config.device)\n",
    "        # send target to device\n",
    "        target = target.to(train_config.device)\n",
    "\n",
    "        # reset parameters gradient to zero\n",
    "        optimizer.zero_grad()\n",
    "        \n",
    "        # forward pass to the model\n",
    "        output = model(data)\n",
    "        \n",
    "         # cross entropy loss\n",
    "            \n",
    "        if (is_weighted_entropy_loss):\n",
    "            criterion = nn.CrossEntropyLoss(weight = train_weights)\n",
    "            loss = criterion(output, target)\n",
    "        else:\n",
    "            loss = F.cross_entropy(output, target)\n",
    "                 \n",
    "        \n",
    "        # find gradients w.r.t training parameters\n",
    "        loss.backward()\n",
    "        # Update parameters using gardients\n",
    "        optimizer.step()\n",
    "        \n",
    "        batch_loss = np.append(batch_loss, [loss.item()])\n",
    "        \n",
    "        # Score to probability using softmax\n",
    "        prob = F.softmax(output, dim=1)\n",
    "            \n",
    "        # get the index of the max probability\n",
    "        pred = prob.data.max(dim=1)[1]  \n",
    "                        \n",
    "        # correct prediction\n",
    "        correct = pred.cpu().eq(indx_target).sum()\n",
    "            \n",
    "        # accuracy\n",
    "        acc = float(correct) / float(len(data))\n",
    "        \n",
    "        batch_acc = np.append(batch_acc, [acc])\n",
    "        \n",
    "        if batch_idx % train_config.log_interval == 0 and batch_idx > 0:\n",
    "\n",
    "            total_batch = epoch_idx * \\\n",
    "                    len(train_loader.dataset) / train_config.batch_size + batch_idx            \n",
    "            \n",
    "            \n",
    "    epoch_loss = batch_loss.mean()\n",
    "    epoch_acc = batch_acc.mean()\n",
    "    print('\\nEpoch: {} \\nTrain Loss: {:.6f} Acc: {:.4f}'.format(\n",
    "            epoch_idx, epoch_loss, epoch_acc))\n",
    "    \n",
    "    return epoch_loss, epoch_acc        "
   ]
  },
  {
   "cell_type": "code",
   "execution_count": 46,
   "metadata": {},
   "outputs": [],
   "source": [
    "def validate(    \n",
    "    model: nn.Module,\n",
    "    test_loader: torch.utils.data.DataLoader,\n",
    "    test_dataset: torch.utils.data.Dataset\n",
    ") -> float:\n",
    "    # \n",
    "    model.eval()\n",
    "    test_loss = 0\n",
    "    count_corect_predictions = 0\n",
    "    \n",
    "    if (is_weighted_entropy_loss):\n",
    "        valid_weights = get_dataset_weights(test_dataset)\n",
    "        valid_weights = valid_weights.to(train_config.device)\n",
    "    \n",
    "    for data, target in test_loader:\n",
    "        indx_target = target.clone()\n",
    "        data = data.to(train_config.device)\n",
    "        \n",
    "        target = target.to(train_config.device)\n",
    "        \n",
    "        output = model(data)\n",
    "        # add loss for each mini batch\n",
    "        if (is_weighted_entropy_loss):        \n",
    "            criterion = nn.CrossEntropyLoss(weight = valid_weights)\n",
    "            test_loss += criterion(output, target).item()\n",
    "        else:\n",
    "            test_loss += F.cross_entropy(output, target).item()      \n",
    "        \n",
    "        \n",
    "        # Score to probability using softmax\n",
    "        prob = F.softmax(output, dim=1)\n",
    "        \n",
    "        # get the index of the max probability\n",
    "        pred = prob.data.max(dim=1)[1] \n",
    "        \n",
    "        # add correct prediction count\n",
    "        count_corect_predictions += pred.cpu().eq(indx_target).sum()\n",
    "\n",
    "    # average over number of mini-batches\n",
    "    test_loss = test_loss / len(test_loader)  \n",
    "    \n",
    "    # average over number of dataset\n",
    "    accuracy = 100. * count_corect_predictions / len(test_loader.dataset)\n",
    "    \n",
    "    print(\n",
    "        'Test set: Average loss: {:.4f}, Accuracy: {}/{} ({:.0f}%)'.format(\n",
    "            test_loss, count_corect_predictions, len(test_loader.dataset), accuracy\n",
    "        )\n",
    "    )\n",
    "    \n",
    "    return test_loss, accuracy/100.0"
   ]
  },
  {
   "cell_type": "code",
   "execution_count": 47,
   "metadata": {},
   "outputs": [],
   "source": [
    "def save_model(model, \n",
    "               model_file_name):    \n",
    "    model_file_path = os.path.join(model_path, model_file_name)\n",
    "\n",
    "    # make sure you transfer the model to cpu.\n",
    "    if train_config.device == 'cuda':\n",
    "        model.to('cpu')\n",
    "\n",
    "    # save the state_dict \n",
    "    torch.save(model.state_dict(), model_file_path)\n",
    "    \n",
    "    if train_config.device == 'cuda':\n",
    "        model.to('cuda')\n",
    "    \n",
    "    return"
   ]
  },
  {
   "cell_type": "code",
   "execution_count": 48,
   "metadata": {},
   "outputs": [],
   "source": [
    "def load_model(model, \n",
    "               model_file_name):\n",
    "    model_file_path = os.path.join(model_path, model_file_name)\n",
    "    \n",
    "    # loading the model and getting model parameters by using load_state_dict\n",
    "    model.load_state_dict(torch.load(model_file_path))\n",
    "    \n",
    "    return model"
   ]
  },
  {
   "cell_type": "code",
   "execution_count": 49,
   "metadata": {},
   "outputs": [],
   "source": [
    "def main(model, \n",
    "         optimizer, \n",
    "         scheduler, \n",
    "         ):\n",
    "    \n",
    "    # system configuration\n",
    "    setup_system()        \n",
    "      \n",
    "     \n",
    "    # send model to device (GPU/CPU)\n",
    "    model.to(train_config.device)\n",
    "\n",
    "    best_loss = torch.tensor(np.inf)\n",
    "    \n",
    "    # epoch train/test loss\n",
    "    epoch_train_loss = np.array([])\n",
    "    epoch_test_loss = np.array([])\n",
    "    \n",
    "    # epch train/test accuracy\n",
    "    epoch_train_acc = np.array([])\n",
    "    epoch_test_acc = np.array([])\n",
    "    \n",
    "    # trainig time measurement\n",
    "    t_begin = time.time()\n",
    "    for fold_idx in range(data_config.no_folds):\n",
    "        train_df = train_dfs[fold_idx]\n",
    "        valid_df = valid_dfs[fold_idx]\n",
    "        \n",
    "        train_dataset = KenyaFoodDataset(train_df, images_data, train_tranform)\n",
    "        valid_dataset = KenyaFoodDataset(valid_df, images_data, val_tranform)\n",
    "        \n",
    "        # data loader\n",
    "        train_loader, test_loader = get_data(\n",
    "                train_dataset = train_dataset,\n",
    "                valid_dataset = valid_dataset,\n",
    "                batch_size = train_config.batch_size,\n",
    "                num_workers = train_config.num_workers       \n",
    "            )  \n",
    "        \n",
    "        for epoch in range(train_config.epochs_count):\n",
    "             \n",
    "            # Train\n",
    "            train_loss, train_acc = train(model, optimizer, train_loader, train_dataset, epoch)        \n",
    "            epoch_train_loss = np.append(epoch_train_loss, [train_loss])        \n",
    "            epoch_train_acc = np.append(epoch_train_acc, [train_acc])        \n",
    "\n",
    "            elapsed_time = time.time() - t_begin\n",
    "            speed_epoch = elapsed_time / (epoch + 1)\n",
    "            speed_batch = speed_epoch / len(train_loader)\n",
    "            eta = speed_epoch * train_config.epochs_count - elapsed_time\n",
    "\n",
    "            print(\n",
    "                \"Elapsed {:.2f}s, {:.2f} s/epoch, {:.2f} s/batch, ets {:.2f}s\".format(\n",
    "                    elapsed_time, speed_epoch, speed_batch, eta))\n",
    "        \n",
    "        \n",
    "            # Validate\n",
    "            if epoch % train_config.test_interval == 0:\n",
    "                current_loss, current_accuracy = validate(model, test_loader, valid_dataset)            \n",
    "                epoch_test_loss = np.append(epoch_test_loss, [current_loss])        \n",
    "                epoch_test_acc = np.append(epoch_test_acc, [current_accuracy])            \n",
    "            \n",
    "                if current_loss < best_loss:\n",
    "                    best_loss = current_loss\n",
    "                    print('Model Improved. Saving the Model...')\n",
    "                    save_model(model, data_config.model_file_name)\n",
    "                \n",
    "            # scheduler step/ update learning rate\n",
    "            if scheduler is not None:\n",
    "                scheduler.step()\n",
    "                \n",
    "        print(\"INFO: Fold id {} Completed\".format(fold_idx))\n",
    "    \n",
    "    print(\"Total time: {:.2f}, Best Loss: {:.3f}\".format(\n",
    "            time.time() - t_begin, best_loss))\n",
    "    \n",
    "    return model, epoch_train_loss, epoch_train_acc, \\\n",
    "        epoch_test_loss, epoch_test_acc"
   ]
  },
  {
   "cell_type": "code",
   "execution_count": 50,
   "metadata": {},
   "outputs": [],
   "source": [
    "def get_optimizer_and_scheduler(model):    \n",
    "    # optimizer    \n",
    "    optimizer = optim.SGD(model.parameters(), \n",
    "                          lr = train_config.learning_rate, \n",
    "                          momentum = 0.9)    \n",
    "    # scheduler\n",
    "    scheduler = lr_scheduler.StepLR(optimizer, step_size = 7, gamma = 0.1)    \n",
    "    \n",
    "    return optimizer, scheduler"
   ]
  },
  {
   "cell_type": "code",
   "execution_count": 51,
   "metadata": {},
   "outputs": [],
   "source": [
    "def pretrained_resnet(num_class):\n",
    "    #print(\"INFO: Pre Trained Model\")\n",
    "    \n",
    "    if (is_resnext50_32x4d):\n",
    "        resnet = models.resnext50_32x4d(pretrained = True)\n",
    " \n",
    "    if (is_resnext101_32x8d):\n",
    "        resnet = models.resnext101_32x8d(pretrained = True)\n",
    "        \n",
    "    if (is_resnet101):\n",
    "        resnet = models.resnet101(pretrained = True)\n",
    "   \n",
    "    \n",
    "    #Resnet has 10 layers, free 7 layers\n",
    "    count = 0\n",
    "    for child in resnet.children():\n",
    "        count+=1\n",
    "        \n",
    "        if (count < 7):\n",
    "            for param in child.parameters():\n",
    "                param.requires_grad = False       \n",
    "    \n",
    "    \n",
    "    last_layer_in = resnet.fc.in_features\n",
    "    \n",
    "    if (is_fc_dropout):\n",
    "        classifier = nn.Sequential(            \n",
    "            nn.Linear(in_features = last_layer_in, out_features = 1024),        \n",
    "            nn.ReLU(inplace = True), \n",
    "            nn.Dropout(0.5),            \n",
    "            nn.Linear(in_features = 1024, out_features = 512),        \n",
    "            nn.ReLU(inplace = True), \n",
    "            nn.Dropout(0.5),            \n",
    "            nn.Linear(in_features = 512, out_features = num_class),\n",
    "            \n",
    "        )       \n",
    "        resnet.fc = classifier\n",
    "    else:\n",
    "        resnet.fc = nn.Linear(last_layer_in, num_class)        \n",
    "        \n",
    "    return resnet"
   ]
  },
  {
   "cell_type": "markdown",
   "metadata": {},
   "source": [
    "## <font style=\"color:green\">5. Model [5 Points]</font>\n",
    "\n",
    "Define your model in this section.\n",
    "\n",
    "**You are allowed to use any pre-trained model.**"
   ]
  },
  {
   "cell_type": "code",
   "execution_count": 52,
   "metadata": {},
   "outputs": [],
   "source": [
    "# training starts here\n",
    "####*** FINE TUNING ***####\n",
    "\n",
    "model = pretrained_resnet(no_classes)\n",
    "# get optimizer and scheduler\n",
    "optimizer, scheduler = get_optimizer_and_scheduler(model)"
   ]
  },
  {
   "cell_type": "code",
   "execution_count": 53,
   "metadata": {},
   "outputs": [
    {
     "name": "stdout",
     "output_type": "stream",
     "text": [
      "\n",
      "Epoch: 0 \n",
      "Train Loss: 2.089034 Acc: 0.3194\n",
      "Elapsed 491.82s, 491.82 s/epoch, 0.38 s/batch, ets 4426.41s\n",
      "Test set: Average loss: 1.3425, Accuracy: 788/1308 (60%)\n",
      "Model Improved. Saving the Model...\n",
      "\n",
      "Epoch: 1 \n",
      "Train Loss: 1.497471 Acc: 0.5337\n",
      "Elapsed 1034.80s, 517.40 s/epoch, 0.40 s/batch, ets 4139.21s\n",
      "Test set: Average loss: 1.1058, Accuracy: 899/1308 (69%)\n",
      "Model Improved. Saving the Model...\n",
      "\n",
      "Epoch: 2 \n",
      "Train Loss: 1.265070 Acc: 0.6092\n",
      "Elapsed 1575.86s, 525.29 s/epoch, 0.40 s/batch, ets 3677.01s\n",
      "Test set: Average loss: 1.1082, Accuracy: 927/1308 (71%)\n",
      "\n",
      "Epoch: 3 \n",
      "Train Loss: 1.142103 Acc: 0.6524\n",
      "Elapsed 2113.73s, 528.43 s/epoch, 0.40 s/batch, ets 3170.60s\n",
      "Test set: Average loss: 1.0487, Accuracy: 966/1308 (74%)\n",
      "Model Improved. Saving the Model...\n",
      "\n",
      "Epoch: 4 \n",
      "Train Loss: 1.019505 Acc: 0.6909\n",
      "Elapsed 2654.71s, 530.94 s/epoch, 0.41 s/batch, ets 2654.71s\n",
      "Test set: Average loss: 1.1497, Accuracy: 988/1308 (76%)\n",
      "\n",
      "Epoch: 5 \n",
      "Train Loss: 0.961530 Acc: 0.7148\n",
      "Elapsed 3193.94s, 532.32 s/epoch, 0.41 s/batch, ets 2129.29s\n",
      "Test set: Average loss: 0.9966, Accuracy: 1002/1308 (77%)\n",
      "Model Improved. Saving the Model...\n",
      "\n",
      "Epoch: 6 \n",
      "Train Loss: 0.920432 Acc: 0.7248\n",
      "Elapsed 3734.73s, 533.53 s/epoch, 0.41 s/batch, ets 1600.60s\n",
      "Test set: Average loss: 0.8662, Accuracy: 1015/1308 (78%)\n",
      "Model Improved. Saving the Model...\n",
      "\n",
      "Epoch: 7 \n",
      "Train Loss: 0.648093 Acc: 0.8028\n",
      "Elapsed 4275.53s, 534.44 s/epoch, 0.41 s/batch, ets 1068.88s\n",
      "Test set: Average loss: 0.8437, Accuracy: 1021/1308 (78%)\n",
      "Model Improved. Saving the Model...\n",
      "\n",
      "Epoch: 8 \n",
      "Train Loss: 0.559215 Acc: 0.8328\n",
      "Elapsed 4815.35s, 535.04 s/epoch, 0.41 s/batch, ets 535.04s\n",
      "Test set: Average loss: 0.7189, Accuracy: 1047/1308 (80%)\n",
      "Model Improved. Saving the Model...\n",
      "\n",
      "Epoch: 9 \n",
      "Train Loss: 0.509112 Acc: 0.8391\n",
      "Elapsed 5355.46s, 535.55 s/epoch, 0.41 s/batch, ets 0.00s\n",
      "Test set: Average loss: 0.7407, Accuracy: 1043/1308 (80%)\n",
      "INFO: Fold id 0 Completed\n",
      "\n",
      "Epoch: 0 \n",
      "Train Loss: 0.572412 Acc: 0.8282\n",
      "Elapsed 5896.00s, 5896.00 s/epoch, 4.51 s/batch, ets 53063.96s\n",
      "Test set: Average loss: 0.4103, Accuracy: 1142/1307 (87%)\n",
      "Model Improved. Saving the Model...\n",
      "\n",
      "Epoch: 1 \n",
      "Train Loss: 0.535263 Acc: 0.8291\n",
      "Elapsed 6439.85s, 3219.92 s/epoch, 2.46 s/batch, ets 25759.40s\n",
      "Test set: Average loss: 0.4332, Accuracy: 1138/1307 (87%)\n",
      "\n",
      "Epoch: 2 \n",
      "Train Loss: 0.526228 Acc: 0.8316\n",
      "Elapsed 6979.15s, 2326.38 s/epoch, 1.78 s/batch, ets 16284.68s\n",
      "Test set: Average loss: 0.4283, Accuracy: 1133/1307 (87%)\n",
      "\n",
      "Epoch: 3 \n",
      "Train Loss: 0.494120 Acc: 0.8463\n",
      "Elapsed 7517.01s, 1879.25 s/epoch, 1.44 s/batch, ets 11275.51s\n",
      "Test set: Average loss: 0.3970, Accuracy: 1152/1307 (88%)\n",
      "Model Improved. Saving the Model...\n",
      "\n",
      "Epoch: 4 \n",
      "Train Loss: 0.443253 Acc: 0.8649\n",
      "Elapsed 8057.34s, 1611.47 s/epoch, 1.23 s/batch, ets 8057.34s\n",
      "Test set: Average loss: 0.4029, Accuracy: 1150/1307 (88%)\n",
      "\n",
      "Epoch: 5 \n",
      "Train Loss: 0.456859 Acc: 0.8561\n",
      "Elapsed 8595.02s, 1432.50 s/epoch, 1.10 s/batch, ets 5730.01s\n",
      "Test set: Average loss: 0.4038, Accuracy: 1146/1307 (88%)\n",
      "\n",
      "Epoch: 6 \n",
      "Train Loss: 0.434396 Acc: 0.8633\n",
      "Elapsed 9132.71s, 1304.67 s/epoch, 1.00 s/batch, ets 3914.02s\n",
      "Test set: Average loss: 0.3944, Accuracy: 1153/1307 (88%)\n",
      "Model Improved. Saving the Model...\n",
      "\n",
      "Epoch: 7 \n",
      "Train Loss: 0.435962 Acc: 0.8626\n",
      "Elapsed 9673.03s, 1209.13 s/epoch, 0.92 s/batch, ets 2418.26s\n",
      "Test set: Average loss: 0.3989, Accuracy: 1149/1307 (88%)\n",
      "\n",
      "Epoch: 8 \n",
      "Train Loss: 0.421223 Acc: 0.8647\n",
      "Elapsed 10211.77s, 1134.64 s/epoch, 0.87 s/batch, ets 1134.64s\n",
      "Test set: Average loss: 0.4149, Accuracy: 1149/1307 (88%)\n",
      "\n",
      "Epoch: 9 \n",
      "Train Loss: 0.421765 Acc: 0.8633\n",
      "Elapsed 10750.37s, 1075.04 s/epoch, 0.82 s/batch, ets 0.00s\n",
      "Test set: Average loss: 0.3914, Accuracy: 1154/1307 (88%)\n",
      "Model Improved. Saving the Model...\n",
      "INFO: Fold id 1 Completed\n",
      "\n",
      "Epoch: 0 \n",
      "Train Loss: 0.436121 Acc: 0.8645\n",
      "Elapsed 11290.75s, 11290.75 s/epoch, 8.63 s/batch, ets 101616.73s\n",
      "Test set: Average loss: 0.2631, Accuracy: 1191/1307 (91%)\n",
      "Model Improved. Saving the Model...\n",
      "\n",
      "Epoch: 1 \n",
      "Train Loss: 0.437434 Acc: 0.8624\n",
      "Elapsed 11831.26s, 5915.63 s/epoch, 4.52 s/batch, ets 47325.02s\n",
      "Test set: Average loss: 0.2592, Accuracy: 1193/1307 (91%)\n",
      "Model Improved. Saving the Model...\n",
      "\n",
      "Epoch: 2 \n",
      "Train Loss: 0.433063 Acc: 0.8580\n",
      "Elapsed 12372.13s, 4124.04 s/epoch, 3.15 s/batch, ets 28868.29s\n",
      "Test set: Average loss: 0.2578, Accuracy: 1193/1307 (91%)\n",
      "Model Improved. Saving the Model...\n",
      "\n",
      "Epoch: 3 \n",
      "Train Loss: 0.419367 Acc: 0.8675\n",
      "Elapsed 12912.57s, 3228.14 s/epoch, 2.47 s/batch, ets 19368.86s\n",
      "Test set: Average loss: 0.2601, Accuracy: 1190/1307 (91%)\n",
      "\n",
      "Epoch: 4 \n",
      "Train Loss: 0.436985 Acc: 0.8651\n",
      "Elapsed 13451.27s, 2690.25 s/epoch, 2.06 s/batch, ets 13451.27s\n",
      "Test set: Average loss: 0.2727, Accuracy: 1187/1307 (91%)\n",
      "\n",
      "Epoch: 5 \n",
      "Train Loss: 0.431814 Acc: 0.8628\n",
      "Elapsed 13989.69s, 2331.62 s/epoch, 1.78 s/batch, ets 9326.46s\n",
      "Test set: Average loss: 0.2559, Accuracy: 1197/1307 (92%)\n",
      "Model Improved. Saving the Model...\n",
      "\n",
      "Epoch: 6 \n",
      "Train Loss: 0.442045 Acc: 0.8589\n",
      "Elapsed 14530.82s, 2075.83 s/epoch, 1.59 s/batch, ets 6227.50s\n",
      "Test set: Average loss: 0.2476, Accuracy: 1198/1307 (92%)\n",
      "Model Improved. Saving the Model...\n",
      "\n",
      "Epoch: 7 \n",
      "Train Loss: 0.429316 Acc: 0.8660\n",
      "Elapsed 15071.71s, 1883.96 s/epoch, 1.44 s/batch, ets 3767.93s\n",
      "Test set: Average loss: 0.2605, Accuracy: 1195/1307 (91%)\n",
      "\n",
      "Epoch: 8 \n",
      "Train Loss: 0.444141 Acc: 0.8580\n",
      "Elapsed 15610.14s, 1734.46 s/epoch, 1.33 s/batch, ets 1734.46s\n",
      "Test set: Average loss: 0.2665, Accuracy: 1194/1307 (91%)\n",
      "\n",
      "Epoch: 9 \n",
      "Train Loss: 0.433381 Acc: 0.8668\n",
      "Elapsed 16148.20s, 1614.82 s/epoch, 1.23 s/batch, ets 0.00s\n",
      "Test set: Average loss: 0.2660, Accuracy: 1190/1307 (91%)\n",
      "INFO: Fold id 2 Completed\n",
      "\n",
      "Epoch: 0 \n",
      "Train Loss: 0.428602 Acc: 0.8635\n",
      "Elapsed 16686.01s, 16686.01 s/epoch, 12.76 s/batch, ets 150174.10s\n",
      "Test set: Average loss: 0.2727, Accuracy: 1192/1307 (91%)\n",
      "\n",
      "Epoch: 1 \n",
      "Train Loss: 0.425367 Acc: 0.8645\n",
      "Elapsed 17224.00s, 8612.00 s/epoch, 6.58 s/batch, ets 68896.01s\n",
      "Test set: Average loss: 0.2682, Accuracy: 1190/1307 (91%)\n",
      "\n",
      "Epoch: 2 \n",
      "Train Loss: 0.423350 Acc: 0.8631\n",
      "Elapsed 17762.27s, 5920.76 s/epoch, 4.53 s/batch, ets 41445.29s\n",
      "Test set: Average loss: 0.2645, Accuracy: 1193/1307 (91%)\n",
      "\n",
      "Epoch: 3 \n",
      "Train Loss: 0.426989 Acc: 0.8660\n",
      "Elapsed 18300.52s, 4575.13 s/epoch, 3.50 s/batch, ets 27450.78s\n",
      "Test set: Average loss: 0.2652, Accuracy: 1195/1307 (91%)\n",
      "\n",
      "Epoch: 4 \n",
      "Train Loss: 0.426532 Acc: 0.8647\n",
      "Elapsed 18839.00s, 3767.80 s/epoch, 2.88 s/batch, ets 18839.00s\n",
      "Test set: Average loss: 0.2585, Accuracy: 1200/1307 (92%)\n",
      "\n",
      "Epoch: 5 \n",
      "Train Loss: 0.432931 Acc: 0.8593\n",
      "Elapsed 19377.72s, 3229.62 s/epoch, 2.47 s/batch, ets 12918.48s\n",
      "Test set: Average loss: 0.2630, Accuracy: 1194/1307 (91%)\n",
      "\n",
      "Epoch: 6 \n",
      "Train Loss: 0.428124 Acc: 0.8614\n",
      "Elapsed 19915.92s, 2845.13 s/epoch, 2.18 s/batch, ets 8535.39s\n",
      "Test set: Average loss: 0.2606, Accuracy: 1186/1307 (91%)\n",
      "\n",
      "Epoch: 7 \n",
      "Train Loss: 0.419981 Acc: 0.8660\n",
      "Elapsed 20454.04s, 2556.76 s/epoch, 1.95 s/batch, ets 5113.51s\n",
      "Test set: Average loss: 0.2583, Accuracy: 1194/1307 (91%)\n",
      "\n",
      "Epoch: 8 \n",
      "Train Loss: 0.437006 Acc: 0.8649\n",
      "Elapsed 20992.70s, 2332.52 s/epoch, 1.78 s/batch, ets 2332.52s\n",
      "Test set: Average loss: 0.2717, Accuracy: 1186/1307 (91%)\n",
      "\n",
      "Epoch: 9 \n",
      "Train Loss: 0.436699 Acc: 0.8610\n",
      "Elapsed 21532.03s, 2153.20 s/epoch, 1.65 s/batch, ets 0.00s\n",
      "Test set: Average loss: 0.2547, Accuracy: 1200/1307 (92%)\n",
      "INFO: Fold id 3 Completed\n",
      "\n",
      "Epoch: 0 \n",
      "Train Loss: 0.427935 Acc: 0.8672\n",
      "Elapsed 22070.03s, 22070.03 s/epoch, 16.87 s/batch, ets 198630.29s\n",
      "Test set: Average loss: 0.2528, Accuracy: 1199/1307 (92%)\n",
      "\n",
      "Epoch: 1 \n",
      "Train Loss: 0.433177 Acc: 0.8607\n",
      "Elapsed 22608.22s, 11304.11 s/epoch, 8.64 s/batch, ets 90432.86s\n",
      "Test set: Average loss: 0.2712, Accuracy: 1193/1307 (91%)\n",
      "\n",
      "Epoch: 2 \n",
      "Train Loss: 0.436470 Acc: 0.8645\n",
      "Elapsed 23147.60s, 7715.87 s/epoch, 5.90 s/batch, ets 54011.08s\n",
      "Test set: Average loss: 0.2664, Accuracy: 1194/1307 (91%)\n",
      "\n",
      "Epoch: 3 \n",
      "Train Loss: 0.427842 Acc: 0.8683\n",
      "Elapsed 23687.27s, 5921.82 s/epoch, 4.53 s/batch, ets 35530.90s\n",
      "Test set: Average loss: 0.2668, Accuracy: 1198/1307 (92%)\n",
      "\n",
      "Epoch: 4 \n",
      "Train Loss: 0.431167 Acc: 0.8584\n",
      "Elapsed 24225.87s, 4845.17 s/epoch, 3.70 s/batch, ets 24225.87s\n",
      "Test set: Average loss: 0.2619, Accuracy: 1191/1307 (91%)\n",
      "\n",
      "Epoch: 5 \n",
      "Train Loss: 0.435337 Acc: 0.8599\n",
      "Elapsed 24764.32s, 4127.39 s/epoch, 3.16 s/batch, ets 16509.55s\n",
      "Test set: Average loss: 0.2575, Accuracy: 1199/1307 (92%)\n",
      "\n",
      "Epoch: 6 \n",
      "Train Loss: 0.431295 Acc: 0.8647\n",
      "Elapsed 25305.63s, 3615.09 s/epoch, 2.76 s/batch, ets 10845.27s\n",
      "Test set: Average loss: 0.2491, Accuracy: 1195/1307 (91%)\n",
      "\n",
      "Epoch: 7 \n",
      "Train Loss: 0.431819 Acc: 0.8618\n",
      "Elapsed 25847.37s, 3230.92 s/epoch, 2.47 s/batch, ets 6461.84s\n",
      "Test set: Average loss: 0.2614, Accuracy: 1200/1307 (92%)\n",
      "\n",
      "Epoch: 8 \n",
      "Train Loss: 0.416207 Acc: 0.8706\n",
      "Elapsed 26387.03s, 2931.89 s/epoch, 2.24 s/batch, ets 2931.89s\n",
      "Test set: Average loss: 0.2636, Accuracy: 1196/1307 (92%)\n",
      "\n",
      "Epoch: 9 \n",
      "Train Loss: 0.436445 Acc: 0.8649\n",
      "Elapsed 26926.06s, 2692.61 s/epoch, 2.06 s/batch, ets 0.00s\n",
      "Test set: Average loss: 0.2509, Accuracy: 1196/1307 (92%)\n",
      "INFO: Fold id 4 Completed\n",
      "Total time: 26970.69, Best Loss: 0.248\n"
     ]
    }
   ],
   "source": [
    "model, train_loss, train_acc, val_loss, val_acc = main(model, \n",
    "                                                       optimizer,                                                       \n",
    "                                                       scheduler)"
   ]
  },
  {
   "cell_type": "code",
   "execution_count": null,
   "metadata": {},
   "outputs": [],
   "source": []
  },
  {
   "cell_type": "markdown",
   "metadata": {},
   "source": [
    "## <font style=\"color:green\">6. Utils [5 Points]</font>\n",
    "\n",
    "Define your methods or classes which are not covered in the above sections."
   ]
  },
  {
   "cell_type": "code",
   "execution_count": 54,
   "metadata": {},
   "outputs": [],
   "source": [
    "def plot_loss_accuracy(train_loss, val_loss, train_acc, val_acc, colors, \n",
    "                       loss_legend_loc='upper center', acc_legend_loc='upper left', \n",
    "                       fig_size=(20, 10), sub_plot1=(1, 2, 1), sub_plot2=(1, 2, 2)):\n",
    "    \n",
    "    plt.rcParams[\"figure.figsize\"] = fig_size\n",
    "    fig = plt.figure()\n",
    "    \n",
    "    plt.subplot(sub_plot1[0], sub_plot1[1], sub_plot1[2])\n",
    "    \n",
    "    for i in range(len(train_loss)):\n",
    "        x_train = range(len(train_loss[i]))\n",
    "        x_val = range(len(val_loss[i]))\n",
    "        \n",
    "        min_train_loss = train_loss[i].min()\n",
    "        \n",
    "        min_val_loss = val_loss[i].min()\n",
    "        \n",
    "        plt.plot(x_train, train_loss[i], linestyle='-', color='tab:{}'.format(colors[i]), \n",
    "                 label=\"TRAIN LOSS ({0:.4})\".format(min_train_loss))\n",
    "        plt.plot(x_val, val_loss[i], linestyle='--' , color='tab:{}'.format(colors[i]), \n",
    "                 label=\"VALID LOSS ({0:.4})\".format(min_val_loss))\n",
    "        \n",
    "    plt.xlabel('epoch no.')\n",
    "    plt.ylabel('loss')\n",
    "    plt.legend(loc=loss_legend_loc)\n",
    "    plt.title('Training and Validation Loss')\n",
    "        \n",
    "    plt.subplot(sub_plot2[0], sub_plot2[1], sub_plot2[2])\n",
    "    \n",
    "    for i in range(len(train_acc)):\n",
    "        x_train = range(len(train_acc[i]))\n",
    "        x_val = range(len(val_acc[i]))\n",
    "        \n",
    "        max_train_acc = train_acc[i].max() \n",
    "        \n",
    "        max_val_acc = val_acc[i].max() \n",
    "        \n",
    "        plt.plot(x_train, train_acc[i], linestyle='-', color='tab:{}'.format(colors[i]), \n",
    "                 label=\"TRAIN ACC ({0:.4})\".format(max_train_acc))\n",
    "        plt.plot(x_val, val_acc[i], linestyle='--' , color='tab:{}'.format(colors[i]), \n",
    "                 label=\"VALID ACC ({0:.4})\".format(max_val_acc))\n",
    "        \n",
    "    plt.xlabel('epoch no.')\n",
    "    plt.ylabel('accuracy')\n",
    "    plt.legend(loc=acc_legend_loc)\n",
    "    plt.title('Training and Validation Accuracy')\n",
    "    \n",
    "    fig.savefig('sample_loss_acc_plot.png')\n",
    "    plt.show()\n",
    "    \n",
    "    return"
   ]
  },
  {
   "cell_type": "code",
   "execution_count": 55,
   "metadata": {},
   "outputs": [
    {
     "data": {
      "image/png": "[encoded data removed]",
      "text/plain": [
       "<Figure size 1440x720 with 2 Axes>"
      ]
     },
     "metadata": {
      "needs_background": "light"
     },
     "output_type": "display_data"
    }
   ],
   "source": [
    "plot_loss_accuracy(train_loss=[train_loss], \n",
    "                   val_loss=[val_loss], \n",
    "                   train_acc=[train_acc], \n",
    "                   val_acc=[val_acc], \n",
    "                   colors=['blue'], \n",
    "                   loss_legend_loc='upper center', \n",
    "                   acc_legend_loc='upper left')"
   ]
  },
  {
   "cell_type": "code",
   "execution_count": null,
   "metadata": {},
   "outputs": [],
   "source": []
  },
  {
   "cell_type": "markdown",
   "metadata": {},
   "source": [
    "## <font style=\"color:green\">7. Experiment [5 Points]</font>\n",
    "\n",
    "Choose your optimizer and LR-scheduler and use the above methods and classes to train your model."
   ]
  },
  {
   "cell_type": "code",
   "execution_count": 56,
   "metadata": {},
   "outputs": [],
   "source": [
    "def prediction(model, batch_input,  max_prob = True):\n",
    "    \n",
    "    # send model to cpu/cuda according to your system configuration\n",
    "    model.to(train_config.device)\n",
    "    \n",
    "    # it is important to do model.eval() before prediction\n",
    "    model.eval()\n",
    "\n",
    "    data = batch_input.to(train_config.device)\n",
    "\n",
    "    output = model(data)\n",
    "\n",
    "    # Score to probability using softmax\n",
    "    prob = F.softmax(output, dim=1)\n",
    "\n",
    "    # get the max probability\n",
    "    if max_prob:\n",
    "        # get the max probability\n",
    "        pred_prob = prob.data.max(dim=1)[0]\n",
    "    else:\n",
    "        pred_prob = prob.data\n",
    "    \n",
    "    # get the index of the max probability\n",
    "    pred_index = prob.data.max(dim=1)[1]\n",
    "    \n",
    "    return pred_index.cpu().numpy(), pred_prob.cpu().numpy()"
   ]
  },
  {
   "cell_type": "code",
   "execution_count": 57,
   "metadata": {},
   "outputs": [],
   "source": [
    "def get_target_and_prob(model, loader):\n",
    "    \"\"\"\n",
    "    get targets and prediction probabilities\n",
    "    \"\"\"\n",
    "    \n",
    "    pred_prob = []\n",
    "    pred_targets = []\n",
    "    \n",
    "    for batch_id, data in enumerate(loader):\n",
    "        \n",
    "        pre_target, prob = prediction(model, data, max_prob = False)\n",
    "        #print(pre_target)\n",
    "        pred_prob.append(prob)                \n",
    "        pred_targets.append(pre_target)\n",
    "        \n",
    "    pred_targets = np.concatenate(pred_targets)    \n",
    "    pred_prob = np.concatenate(pred_prob, axis=0)\n",
    "    \n",
    "    return pred_targets, pred_prob"
   ]
  },
  {
   "cell_type": "code",
   "execution_count": 58,
   "metadata": {},
   "outputs": [],
   "source": [
    "def get_test_predictions():\n",
    "    test_dataset = KenyaFoodDataset(test_df, images_data, test_tranform, test = True)\n",
    "    \n",
    "    test_loader = torch.utils.data.DataLoader(test_dataset,\n",
    "                                              batch_size = train_config.batch_size,\n",
    "                                              num_workers = train_config.num_workers,\n",
    "                                              shuffle = False)\n",
    "    model = pretrained_resnet(no_classes)\n",
    "    model = load_model(model, data_config.model_file_name)\n",
    "    pred_targets, pred_prob = get_target_and_prob(model, test_loader)\n",
    "  \n",
    "    return pred_targets, pred_prob  "
   ]
  },
  {
   "cell_type": "code",
   "execution_count": 59,
   "metadata": {},
   "outputs": [
    {
     "name": "stdout",
     "output_type": "stream",
     "text": [
      "INFO: No. of Predictions =  1638\n"
     ]
    }
   ],
   "source": [
    "pred_targets, pred_prob = get_test_predictions()\n",
    "print('INFO: No. of Predictions = ', len(pred_targets))"
   ]
  },
  {
   "cell_type": "code",
   "execution_count": 60,
   "metadata": {},
   "outputs": [],
   "source": [
    "def confusion_matrix():\n",
    "            \n",
    "    val_loader = torch.utils.data.DataLoader(valid_dataset,\n",
    "                                              batch_size = train_config.batch_size,\n",
    "                                              num_workers = train_config.num_workers,\n",
    "                                              shuffle = False)\n",
    "    \n",
    "    model = pretrained_resnet(no_classes)\n",
    "    model = load_model(model,data_config.model_file_name)\n",
    "    \n",
    "    pred_prob = []\n",
    "    predicts = []\n",
    "    actuals = []\n",
    "    for batch_id, (images, class_ids) in enumerate(val_loader):\n",
    "        pre_target, prob = prediction(model, images, max_prob = False)\n",
    "        \n",
    "        pred_prob.append(prob)                \n",
    "        predicts.append(pre_target)\n",
    "        actuals.append(class_ids)\n",
    "        \n",
    "    predicts = np.concatenate(predicts)  \n",
    "    actuals = np.concatenate(actuals) \n",
    "    \n",
    "    unique_elements, counts_elements = np.unique(actuals, return_counts=True)\n",
    "    print(\"INFO: Frequency of Actuals are:\")\n",
    "    print(np.asarray((unique_elements, counts_elements)))\n",
    "    \n",
    "    unique_elements, counts_elements = np.unique(predicts, return_counts=True)\n",
    "    print(\"INFO: Frequency of Predicted are:\")\n",
    "    print(np.asarray((unique_elements, counts_elements)))\n",
    "    \n",
    "    result = np.zeros((no_classes, no_classes))\n",
    "  \n",
    "    for index in range(len(actuals)):\n",
    "        result[actuals[index]][predicts[index]] += 1 \n",
    "    return result"
   ]
  },
  {
   "cell_type": "code",
   "execution_count": 61,
   "metadata": {},
   "outputs": [
    {
     "name": "stdout",
     "output_type": "stream",
     "text": [
      "INFO: Frequency of Actuals are:\n",
      "[[  0   1   2   3   4   5   6   7   8   9  10  11  12]\n",
      " [106 119  96  94  66 132 127  31 169  60 172  93  43]]\n",
      "INFO: Frequency of Predicted are:\n",
      "[[  0   1   2   3   4   5   6   8   9  10  11  12]\n",
      " [108 121 110  96  61 122 129 188  66 176  92  39]]\n",
      "INFO: Confusion Matrix\n",
      "[[103.   0.   0.   0.   0.   1.   0.   0.   0.   0.   0.   0.   2.]\n",
      " [  1. 101.   8.   1.   7.   0.   0.   0.   0.   0.   0.   1.   0.]\n",
      " [  2.   3.  86.   1.   1.   0.   0.   0.   2.   0.   1.   0.   0.]\n",
      " [  0.   1.   2.  87.   1.   0.   2.   0.   0.   0.   0.   0.   1.]\n",
      " [  1.  14.   2.   0.  47.   0.   0.   0.   0.   1.   1.   0.   0.]\n",
      " [  0.   1.   1.   1.   1. 121.   0.   0.   1.   3.   3.   0.   0.]\n",
      " [  0.   0.   0.   0.   0.   0. 127.   0.   0.   0.   0.   0.   0.]\n",
      " [  0.   0.   4.   0.   0.   0.   0.   0.  25.   1.   0.   1.   0.]\n",
      " [  1.   1.   6.   1.   1.   0.   0.   0. 158.   1.   0.   0.   0.]\n",
      " [  0.   0.   1.   1.   1.   0.   0.   0.   0.  57.   0.   0.   0.]\n",
      " [  0.   0.   0.   0.   1.   0.   0.   0.   0.   1. 170.   0.   0.]\n",
      " [  0.   0.   0.   1.   0.   0.   0.   0.   2.   0.   0.  90.   0.]\n",
      " [  0.   0.   0.   3.   1.   0.   0.   0.   0.   2.   1.   0.  36.]]\n"
     ]
    }
   ],
   "source": [
    "confusion_matrix = confusion_matrix()\n",
    "print(\"INFO: Confusion Matrix\")\n",
    "print(confusion_matrix)"
   ]
  },
  {
   "cell_type": "code",
   "execution_count": 62,
   "metadata": {},
   "outputs": [],
   "source": [
    "def generate_submission(submission_file_name, targets, classes):  \n",
    "       \n",
    "    ids = []\n",
    "    target_classes = []\n",
    "    \n",
    "    for index in range (test_df.shape[0]):\n",
    "        image_id = test_df['id'][index]\n",
    "        ids.append(image_id) \n",
    "        target = targets[index].item()\n",
    "        target_classes.append(classes[target])\n",
    "    \n",
    "        \n",
    "    # dictionary of lists  \n",
    "    dict = {'id': ids, 'class': target_classes}\n",
    "    \n",
    "    submission_data_df = pd.DataFrame(dict)    \n",
    "    submission_data_df.to_csv(submission_file_name, index = False)"
   ]
  },
  {
   "cell_type": "code",
   "execution_count": 63,
   "metadata": {},
   "outputs": [
    {
     "name": "stdout",
     "output_type": "stream",
     "text": [
      "INFO: Submission File Name =  data/output/submission.csv\n"
     ]
    }
   ],
   "source": [
    "# Get the test file name\n",
    "submission_file_name = os.path.join(data_config.output_data, \n",
    "                                    data_config.submission_file_name)\n",
    "print(\"INFO: Submission File Name = \", submission_file_name)\n",
    "   \n",
    "generate_submission(submission_file_name, pred_targets, labels)"
   ]
  },
  {
   "cell_type": "markdown",
   "metadata": {},
   "source": [
    "## <font style=\"color:green\">8. TensorBoard Dev Scalars Log Link [5 Points]</font>\n",
    "\n",
    "Share your tensorboard scalars logs link in this section. You can also share (not mandatory) your GitHub link if you have pushed this project in GitHub. \n",
    "\n",
    "For example, [Find Project2 logs here](https://tensorboard.dev/experiment/kMJ4YU0wSNG0IkjrluQ5Dg/#scalars)."
   ]
  },
  {
   "cell_type": "markdown",
   "metadata": {},
   "source": []
  },
  {
   "cell_type": "markdown",
   "metadata": {},
   "source": [
    "## <font style=\"color:green\">9. Kaggle Profile Link [50 Points]</font>\n",
    "\n",
    "Share your Kaggle profile link here with us so that we can give points for the competition score. \n",
    "\n",
    "You should have a minimum accuracy of `75%` on the test data to get all points. If accuracy is less than `70%`, you will not get any points for the section. \n",
    "\n",
    "**You must have to submit `submission.csv` (prediction for images in `test.csv`) in `Submit Predictions` tab in Kaggle to get any evaluation in this section.**"
   ]
  },
  {
   "cell_type": "markdown",
   "metadata": {},
   "source": []
  }
 ],
 "metadata": {
  "kernelspec": {
   "display_name": "Python 3",
   "language": "python",
   "name": "python3"
  },
  "language_info": {
   "codemirror_mode": {
    "name": "ipython",
    "version": 3
   },
   "file_extension": ".py",
   "mimetype": "text/x-python",
   "name": "python",
   "nbconvert_exporter": "python",
   "pygments_lexer": "ipython3",
   "version": "3.7.7"
  }
 },
 "nbformat": 4,
 "nbformat_minor": 4
}
