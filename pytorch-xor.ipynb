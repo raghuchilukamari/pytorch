{
 "cells": [
  {
   "cell_type": "code",
   "execution_count": 20,
   "id": "29262948",
   "metadata": {},
   "outputs": [],
   "source": [
    "import torch\n",
    "import torch.nn as nn\n",
    "\n",
    "import matplotlib.pyplot as plt\n",
    "import numpy as np\n",
    "\n",
    "torch.manual_seed(1)\n",
    "np.random.seed(1)"
   ]
  },
  {
   "cell_type": "code",
   "execution_count": 21,
   "id": "070be85f",
   "metadata": {},
   "outputs": [],
   "source": [
    "x = np.random.uniform(low=-1, high=1, size=(200,2))\n",
    "y = np.ones(len(x))\n",
    "\n",
    "y[x[:,0] * x[:,1]<0] = 0\n",
    "n_train = 100\n",
    "\n",
    "x_train = torch.tensor(x[:n_train, :], dtype=torch.float32)\n",
    "y_train = torch.tensor(y[:n_train], dtype=torch.float32)\n",
    "x_valid = torch.tensor(x[n_train:, :],dtype=torch.float32)\n",
    "y_valid = torch.tensor(y[n_train:], dtype=torch.float32)"
   ]
  },
  {
   "cell_type": "code",
   "execution_count": 23,
   "id": "25c53642",
   "metadata": {},
   "outputs": [
    {
     "data": {
      "image/png": "[encoded data removed]",
      "text/plain": [
       "<Figure size 432x432 with 1 Axes>"
      ]
     },
     "metadata": {
      "needs_background": "light"
     },
     "output_type": "display_data"
    }
   ],
   "source": [
    "fig = plt.figure(figsize=(6,6))\n",
    "plt.plot(x[y==0,0],x[y==0,1],'o', alpha=0.75, markersize=10)\n",
    "plt.plot(x[y==1,0],x[y==1,1],'<', alpha=0.75, markersize=10)\n",
    "plt.xlabel(r'$x_1$',size=15)\n",
    "plt.ylabel(r'$x_1$',size=15)\n",
    "plt.show()"
   ]
  },
  {
   "cell_type": "code",
   "execution_count": 43,
   "id": "e98e0e66",
   "metadata": {},
   "outputs": [],
   "source": [
    "model = nn.Sequential(\n",
    "nn.Linear(2,1),\n",
    "nn.Sigmoid())\n",
    "\n",
    "loss_fn = nn.BCELoss()\n",
    "optimizer = torch.optim.SGD(model.parameters(), lr = 0.001)"
   ]
  },
  {
   "cell_type": "code",
   "execution_count": 58,
   "id": "ff020ee4",
   "metadata": {},
   "outputs": [],
   "source": [
    "from torch.utils.data import DataLoader, TensorDataset\n",
    "\n",
    "train_ds = TensorDataset(x_train, y_train)\n",
    "batch_size = 2\n",
    "torch.manual_seed(1)\n",
    "\n",
    "train_dl = DataLoader(train_ds, batch_size, shuffle=True)\n",
    "\n",
    "num_epochs = 1\n",
    "\n",
    "def train(model, num_epochs, train_dl, x_valid, y_valid):\n",
    "    \n",
    "    loss_hist_train = [0]*num_epochs\n",
    "    accuracy_hist_train = [0]*num_epochs\n",
    "    loss_hist_valid = [0]*num_epochs\n",
    "    accuracy_hist_valid = [0]*num_epochs\n",
    "  \n",
    "    for epoch in range(num_epochs):\n",
    "        for x_batch, y_batch in train_dl:\n",
    "\n",
    "            # Generate predictions\n",
    "            pred = model(x_batch)[:, 0]\n",
    "\n",
    "            # Calculate Loss\n",
    "            loss = loss_fn(pred, y_batch)\n",
    "\n",
    "            # compute gradeints\n",
    "            loss.backward()\n",
    "\n",
    "            # update weights & gradients\n",
    "            optimizer.step()\n",
    "\n",
    "            # Reset gradients to zero for next epoch\n",
    "            optimizer.zero_grad()\n",
    "\n",
    "            loss_hist_train[epoch] += loss.item()\n",
    "            is_correct = ((pred>=0.5).float() == y_batch).float()\n",
    "            accuracy_hist_train[epoch] += is_correct.mean()\n",
    "                    \n",
    "        loss_hist_train[epoch] /= n_train\n",
    "        accuracy_hist_train[epoch] /= n_train/batch_size\n",
    "\n",
    "        pred = model(x_valid)[:,0]\n",
    "        loss = loss_fn(pred, y_valid)\n",
    "\n",
    "        loss_hist_valid[epoch] += loss.item()\n",
    "        is_correct = ((pred>=0.5).float() == y_batch).float()\n",
    "        accuracy_hist_valid[epoch] += is_correct.mean()\n",
    "\n",
    "    return loss_hist_train, loss_hist_valid, accuracy_hist_train, accuracy_hist_valid"
   ]
  },
  {
   "cell_type": "code",
   "execution_count": 59,
   "id": "6b5fab14",
   "metadata": {},
   "outputs": [
    {
     "ename": "RuntimeError",
     "evalue": "The size of tensor a (100) must match the size of tensor b (2) at non-singleton dimension 0",
     "output_type": "error",
     "traceback": [
      "\u001b[0;31m---------------------------------------------------------------------------\u001b[0m",
      "\u001b[0;31mRuntimeError\u001b[0m                              Traceback (most recent call last)",
      "Input \u001b[0;32mIn [59]\u001b[0m, in \u001b[0;36m<cell line: 1>\u001b[0;34m()\u001b[0m\n\u001b[0;32m----> 1\u001b[0m history \u001b[38;5;241m=\u001b[39m \u001b[43mtrain\u001b[49m\u001b[43m(\u001b[49m\u001b[43mmodel\u001b[49m\u001b[43m,\u001b[49m\u001b[43m \u001b[49m\u001b[43mnum_epochs\u001b[49m\u001b[43m,\u001b[49m\u001b[43m \u001b[49m\u001b[43mtrain_dl\u001b[49m\u001b[43m,\u001b[49m\u001b[43m \u001b[49m\u001b[43mx_valid\u001b[49m\u001b[43m,\u001b[49m\u001b[43m \u001b[49m\u001b[43my_valid\u001b[49m\u001b[43m)\u001b[49m\n",
      "Input \u001b[0;32mIn [58]\u001b[0m, in \u001b[0;36mtrain\u001b[0;34m(model, num_epochs, train_dl, x_valid, y_valid)\u001b[0m\n\u001b[1;32m     44\u001b[0m     loss \u001b[38;5;241m=\u001b[39m loss_fn(pred, y_valid)\n\u001b[1;32m     46\u001b[0m     loss_hist_valid[epoch] \u001b[38;5;241m+\u001b[39m\u001b[38;5;241m=\u001b[39m loss\u001b[38;5;241m.\u001b[39mitem()\n\u001b[0;32m---> 47\u001b[0m     is_correct \u001b[38;5;241m=\u001b[39m (\u001b[43m(\u001b[49m\u001b[43mpred\u001b[49m\u001b[38;5;241;43m>\u001b[39;49m\u001b[38;5;241;43m=\u001b[39;49m\u001b[38;5;241;43m0.5\u001b[39;49m\u001b[43m)\u001b[49m\u001b[38;5;241;43m.\u001b[39;49m\u001b[43mfloat\u001b[49m\u001b[43m(\u001b[49m\u001b[43m)\u001b[49m\u001b[43m \u001b[49m\u001b[38;5;241;43m==\u001b[39;49m\u001b[43m \u001b[49m\u001b[43my_batch\u001b[49m)\u001b[38;5;241m.\u001b[39mfloat()\n\u001b[1;32m     48\u001b[0m     accuracy_hist_valid[epoch] \u001b[38;5;241m+\u001b[39m\u001b[38;5;241m=\u001b[39m is_correct\u001b[38;5;241m.\u001b[39mmean()\n\u001b[1;32m     50\u001b[0m \u001b[38;5;28;01mreturn\u001b[39;00m loss_hist_train, loss_hist_valid, accuracy_hist_train, accuracy_hist_valid\n",
      "\u001b[0;31mRuntimeError\u001b[0m: The size of tensor a (100) must match the size of tensor b (2) at non-singleton dimension 0"
     ]
    }
   ],
   "source": [
    "history = train(model, num_epochs, train_dl, x_valid, y_valid)"
   ]
  },
  {
   "cell_type": "code",
   "execution_count": null,
   "id": "f597349a",
   "metadata": {},
   "outputs": [],
   "source": []
  }
 ],
 "metadata": {
  "kernelspec": {
   "display_name": "Python 3 (ipykernel)",
   "language": "python",
   "name": "python3"
  },
  "language_info": {
   "codemirror_mode": {
    "name": "ipython",
    "version": 3
   },
   "file_extension": ".py",
   "mimetype": "text/x-python",
   "name": "python",
   "nbconvert_exporter": "python",
   "pygments_lexer": "ipython3",
   "version": "3.9.12"
  }
 },
 "nbformat": 4,
 "nbformat_minor": 5
}
